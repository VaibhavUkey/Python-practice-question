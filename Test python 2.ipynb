{
 "cells": [
  {
   "cell_type": "markdown",
   "id": "f7b34e02-6307-418c-a7d5-a715404cb73b",
   "metadata": {
    "jp-MarkdownHeadingCollapsed": true
   },
   "source": [
    "### 1. Find the 2nd largest and 2nd smallest element in a list."
   ]
  },
  {
   "cell_type": "code",
   "execution_count": 47,
   "id": "c84bd009-7b28-434d-865b-552a1dca289f",
   "metadata": {},
   "outputs": [
    {
     "name": "stdout",
     "output_type": "stream",
     "text": [
      "4\n",
      "10\n"
     ]
    }
   ],
   "source": [
    "nums = [10, 4, 7, 2, 9, 2, 10, 5]\n",
    "my_list.sort()\n",
    "second_smallest = my_list[1]\n",
    "print(second_smallest)\n",
    "second_large = my_list[-1]\n",
    "print(second_large)"
   ]
  },
  {
   "cell_type": "markdown",
   "id": "cbf0336c-bec4-46ad-90d3-0c0163c32609",
   "metadata": {
    "jp-MarkdownHeadingCollapsed": true
   },
   "source": [
    "### 2. Find the key with the largest value in a dictionary."
   ]
  },
  {
   "cell_type": "code",
   "execution_count": 3,
   "id": "3ab7e385-fa98-47f9-abfb-aaaf777a7629",
   "metadata": {},
   "outputs": [
    {
     "data": {
      "text/plain": [
       "'march'"
      ]
     },
     "execution_count": 3,
     "metadata": {},
     "output_type": "execute_result"
    }
   ],
   "source": [
    "dic = {\"jan\":31, \"feb\": 28, \"march\":31, \"april\":30}\n",
    "max(dic)"
   ]
  },
  {
   "cell_type": "markdown",
   "id": "1aaae02e-5f6d-41c0-8815-73d6c840e01f",
   "metadata": {
    "jp-MarkdownHeadingCollapsed": true
   },
   "source": [
    "### 3. Create a new folder using os module and create a file inside it."
   ]
  },
  {
   "cell_type": "code",
   "execution_count": 12,
   "id": "c1282c4b-543d-4846-9fb9-685ffcf74f25",
   "metadata": {},
   "outputs": [],
   "source": [
    "import os"
   ]
  },
  {
   "cell_type": "code",
   "execution_count": 25,
   "id": "677ea28a-8312-4809-819f-7da4b3d4ab0d",
   "metadata": {},
   "outputs": [],
   "source": [
    "os.chdir(\"C:\\\\Users\\\\vaibh\\\\OneDrive\\\\Desktop\")\n",
    "os.makedirs(\"new folder3\")"
   ]
  },
  {
   "cell_type": "code",
   "execution_count": 26,
   "id": "cfb17041-ee9e-44d1-b7ac-043a21fe2f24",
   "metadata": {},
   "outputs": [
    {
     "data": {
      "text/plain": [
       "'C:\\\\Users\\\\vaibh\\\\OneDrive\\\\Desktop'"
      ]
     },
     "execution_count": 26,
     "metadata": {},
     "output_type": "execute_result"
    }
   ],
   "source": [
    "os.getcwd()"
   ]
  },
  {
   "cell_type": "code",
   "execution_count": null,
   "id": "0af64d1d-18b6-4193-b4d2-8b9455e5c3d5",
   "metadata": {},
   "outputs": [],
   "source": []
  },
  {
   "cell_type": "markdown",
   "id": "d35e6b40-960a-43f1-afab-ec0ff29b7a64",
   "metadata": {
    "jp-MarkdownHeadingCollapsed": true
   },
   "source": [
    "### 4. Write a recursive function to calculate Fibonacci series up to n terms."
   ]
  },
  {
   "cell_type": "code",
   "execution_count": 29,
   "id": "88c8e722-7dc8-4b06-a568-d1e283121393",
   "metadata": {},
   "outputs": [
    {
     "name": "stdin",
     "output_type": "stream",
     "text": [
      " 10\n"
     ]
    },
    {
     "name": "stdout",
     "output_type": "stream",
     "text": [
      "0 1 1 2 3 5 8 13 21 34 "
     ]
    }
   ],
   "source": [
    "a,b = 0,1\n",
    "for i in range (int(input())):\n",
    "    print(a, end=\" \")\n",
    "    a,b = b, a+b"
   ]
  },
  {
   "cell_type": "markdown",
   "id": "4360df96-dfcf-43e6-9cdc-a176b18c8b1e",
   "metadata": {
    "jp-MarkdownHeadingCollapsed": true
   },
   "source": [
    "### 5. Use a lambda with map() to convert a list of integers into their cubes."
   ]
  },
  {
   "cell_type": "code",
   "execution_count": 46,
   "id": "d7233a67-eb69-49e4-b563-a4f7be7247db",
   "metadata": {},
   "outputs": [
    {
     "name": "stdout",
     "output_type": "stream",
     "text": [
      "[1, 8, 27, 64, 125]\n"
     ]
    }
   ],
   "source": [
    "numbers = [1, 2, 3, 4, 5]\n",
    "cubes = list(map(lambda x: x**3, numbers))\n",
    "print(cubes)"
   ]
  },
  {
   "cell_type": "markdown",
   "id": "5954f391-c14a-4a14-a86c-9734b04d24d1",
   "metadata": {
    "jp-MarkdownHeadingCollapsed": true
   },
   "source": [
    "### 6. Create a class Employee that increases salary by 10%."
   ]
  },
  {
   "cell_type": "code",
   "execution_count": null,
   "id": "40586ed5-89c5-425e-8c55-25d8e0fd73e0",
   "metadata": {},
   "outputs": [],
   "source": [
    "class Employee:\n",
    "    "
   ]
  },
  {
   "cell_type": "markdown",
   "id": "ae4cb36a-6fa7-4144-89ca-a2ee316d6cdb",
   "metadata": {
    "jp-MarkdownHeadingCollapsed": true
   },
   "source": [
    "### 7. Write a program to print the date 30 days from today."
   ]
  },
  {
   "cell_type": "code",
   "execution_count": 30,
   "id": "979b83b6-3b61-4c22-b323-e53cc433552f",
   "metadata": {},
   "outputs": [],
   "source": [
    "import datetime"
   ]
  },
  {
   "cell_type": "code",
   "execution_count": 34,
   "id": "abf60a84-7a2d-41b2-b72b-3b6cef984539",
   "metadata": {},
   "outputs": [],
   "source": [
    "from datetime import date\n",
    "today = date.today()"
   ]
  },
  {
   "cell_type": "code",
   "execution_count": 35,
   "id": "64a33865-4e62-48bb-828a-b7e62751db6b",
   "metadata": {},
   "outputs": [
    {
     "data": {
      "text/plain": [
       "datetime.date(2025, 9, 16)"
      ]
     },
     "execution_count": 35,
     "metadata": {},
     "output_type": "execute_result"
    }
   ],
   "source": [
    "today"
   ]
  },
  {
   "cell_type": "code",
   "execution_count": 40,
   "id": "98fc2745-6410-4031-bc02-fc7c280377b6",
   "metadata": {},
   "outputs": [
    {
     "name": "stdout",
     "output_type": "stream",
     "text": [
      "2025-10-16\n"
     ]
    }
   ],
   "source": [
    "fudate = today + timedelta(days=30)\n",
    "print(fudate)"
   ]
  },
  {
   "cell_type": "markdown",
   "id": "09fce3fe-46bb-462e-9fb6-87610588fedc",
   "metadata": {},
   "source": [
    "### 8. Write a program to convert radians to degrees and vice versa."
   ]
  },
  {
   "cell_type": "code",
   "execution_count": null,
   "id": "8672da31-42e5-4e6a-9b13-3f2b37e26903",
   "metadata": {},
   "outputs": [],
   "source": []
  },
  {
   "cell_type": "markdown",
   "id": "244e2415-69f3-475f-8e77-81c34550e520",
   "metadata": {},
   "source": [
    "### 9. Write a regex to validate if a string is a valid Indian mobile number (10 digits)."
   ]
  },
  {
   "cell_type": "code",
   "execution_count": null,
   "id": "2cea7db6-750c-4061-84aa-63320eb87da1",
   "metadata": {},
   "outputs": [],
   "source": []
  },
  {
   "cell_type": "markdown",
   "id": "0ff233ac-8170-4bc1-8ece-5b9ccdf1cfc1",
   "metadata": {},
   "source": [
    "### 10. Create a class Bank with encapsulated methods to show account details securely."
   ]
  },
  {
   "cell_type": "code",
   "execution_count": null,
   "id": "2698e319-150b-4bde-908d-f146979db164",
   "metadata": {},
   "outputs": [],
   "source": []
  }
 ],
 "metadata": {
  "kernelspec": {
   "display_name": "Python [conda env:base] *",
   "language": "python",
   "name": "conda-base-py"
  },
  "language_info": {
   "codemirror_mode": {
    "name": "ipython",
    "version": 3
   },
   "file_extension": ".py",
   "mimetype": "text/x-python",
   "name": "python",
   "nbconvert_exporter": "python",
   "pygments_lexer": "ipython3",
   "version": "3.13.5"
  }
 },
 "nbformat": 4,
 "nbformat_minor": 5
}
