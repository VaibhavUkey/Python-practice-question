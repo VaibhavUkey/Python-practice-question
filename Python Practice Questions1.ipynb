{
 "cells": [
  {
   "cell_type": "markdown",
   "id": "e733606b-f6fa-4c9e-98a3-2f4bac365701",
   "metadata": {
    "jp-MarkdownHeadingCollapsed": true
   },
   "source": [
    "# 1) String"
   ]
  },
  {
   "cell_type": "markdown",
   "id": "acb9c125-d5bd-4556-9504-e4039a01d4bf",
   "metadata": {
    "jp-MarkdownHeadingCollapsed": true
   },
   "source": [
    "#### 1}Check if a given string is a palindrome."
   ]
  },
  {
   "cell_type": "code",
   "execution_count": 2,
   "id": "9e288664-b07c-4ae2-9eee-823b5c74fe01",
   "metadata": {},
   "outputs": [
    {
     "name": "stdin",
     "output_type": "stream",
     "text": [
      " 523645\n"
     ]
    },
    {
     "name": "stdout",
     "output_type": "stream",
     "text": [
      "no\n"
     ]
    }
   ],
   "source": [
    "Str1= input()\n",
    "str2= Str1[::-1] \n",
    "if Str1==str2 :\n",
    "    print (\"yes\")\n",
    "else : print(\"no\")"
   ]
  },
  {
   "cell_type": "markdown",
   "id": "d055d21a-5089-4497-ba9c-c34d3890ebcd",
   "metadata": {
    "jp-MarkdownHeadingCollapsed": true
   },
   "source": [
    "#### 2}Count the number of vowels in a string and store the result in a dictionary"
   ]
  },
  {
   "cell_type": "code",
   "execution_count": 5,
   "id": "08ef43f3-354e-4750-9091-f6369ed35867",
   "metadata": {},
   "outputs": [
    {
     "name": "stdout",
     "output_type": "stream",
     "text": [
      "{'a': 0, 'e': 2, 'i': 0, 'o': 0, 'u': 1}\n"
     ]
    }
   ],
   "source": [
    "s= 'frequently'\n",
    "vowel= \"aeiou\"\n",
    "count= {v:s.count(v) for v in vowel}\n",
    "print(count)"
   ]
  },
  {
   "cell_type": "markdown",
   "id": "6c640140-d89d-4abe-a311-cda428807b4a",
   "metadata": {
    "jp-MarkdownHeadingCollapsed": true
   },
   "source": [
    "#### 3} Convert the first letter of each word in a string to uppercase"
   ]
  },
  {
   "cell_type": "code",
   "execution_count": 11,
   "id": "94281b04-85a3-47a3-94fb-ea2ec247d6bd",
   "metadata": {},
   "outputs": [
    {
     "data": {
      "text/plain": [
       "'Tihtfnutyrmify, This , Vowels'"
      ]
     },
     "execution_count": 11,
     "metadata": {},
     "output_type": "execute_result"
    }
   ],
   "source": [
    "\"tihtfnutyrmify, this , vowels\".title()"
   ]
  },
  {
   "cell_type": "markdown",
   "id": "f22c7a2b-04f1-48f7-a903-95ba40ac2579",
   "metadata": {},
   "source": [
    "#### 4} Find the most frequently occurring character in a string"
   ]
  },
  {
   "cell_type": "code",
   "execution_count": 17,
   "id": "5c89d9ec-8ef2-4aa5-96af-46582b3cec97",
   "metadata": {},
   "outputs": [
    {
     "name": "stdout",
     "output_type": "stream",
     "text": [
      "{'t': 4, 'i': 3, 'h': 2, 'f': 2, 'n': 1, 'u': 1, 'y': 2, 'r': 1, 'm': 1, ',': 2, ' ': 3, 's': 2, 'v': 1, 'o': 1, 'w': 1, 'e': 1, 'l': 1}\n"
     ]
    }
   ],
   "source": [
    "Str2=\"tihtfnutyrmify, this , vowels\"\n",
    "char_counts = {} \n",
    "max_count = 0\n",
    "max_char = ''\n",
    "\n",
    "for char in Str2:\n",
    "    char_counts[char] = char_counts.get(char, 0) + 1\n",
    "\n",
    "print(char_counts)"
   ]
  },
  {
   "cell_type": "markdown",
   "id": "643c9915-710f-4b56-ae65-b66deb4514f4",
   "metadata": {
    "jp-MarkdownHeadingCollapsed": true
   },
   "source": [
    "#### 5} Count digits, alphabets, and special characters separately in a string"
   ]
  },
  {
   "cell_type": "code",
   "execution_count": 1,
   "id": "4ab747aa-6036-4cc5-a575-8ad19bf23beb",
   "metadata": {},
   "outputs": [
    {
     "name": "stdout",
     "output_type": "stream",
     "text": [
      "8\n",
      "5\n",
      "1\n"
     ]
    }
   ],
   "source": [
    "input_string = \"Anaconda@12356\"\n",
    "alphabet_count = 0\n",
    "digit_count = 0\n",
    "special_char_count = 0\n",
    "\n",
    "for char in input_string:\n",
    "    if char.isalpha():\n",
    "        alphabet_count += 1\n",
    "    elif char.isdigit():\n",
    "        digit_count += 1\n",
    "    else:\n",
    "        special_char_count += 1\n",
    "print(alphabet_count)\n",
    "print(digit_count)\n",
    "print(special_char_count)"
   ]
  },
  {
   "cell_type": "markdown",
   "id": "f55364f4-28b3-4d62-9935-23ab15150f1a",
   "metadata": {
    "jp-MarkdownHeadingCollapsed": true
   },
   "source": [
    "# 2) list"
   ]
  },
  {
   "cell_type": "markdown",
   "id": "8e5a0a18-1319-424a-942c-d8916455d6ea",
   "metadata": {
    "jp-MarkdownHeadingCollapsed": true
   },
   "source": [
    "#### 1)Remove duplicate elements from a list without using set()"
   ]
  },
  {
   "cell_type": "code",
   "execution_count": 29,
   "id": "401d7547-c485-4759-9013-c8e9515e4fcc",
   "metadata": {},
   "outputs": [
    {
     "name": "stdout",
     "output_type": "stream",
     "text": [
      "[1, 2, 3, 4, 5, 6, 7, 8, 9]\n"
     ]
    }
   ],
   "source": [
    "str2=[1,2,3,4,5,6,7,7,7,8,9,]\n",
    "a=[]\n",
    "for i in str2:\n",
    "    if(i not in a):\n",
    "        a.append(i)\n",
    "print(a)\n",
    "    "
   ]
  },
  {
   "cell_type": "markdown",
   "id": "d16c63d7-d274-46f5-af86-2014553b4077",
   "metadata": {
    "jp-MarkdownHeadingCollapsed": true
   },
   "source": [
    "#### 2) Reverse a list without using built-in functions."
   ]
  },
  {
   "cell_type": "code",
   "execution_count": 17,
   "id": "638c5560-3783-4cea-815c-f2f4fcbcf23b",
   "metadata": {},
   "outputs": [
    {
     "name": "stdout",
     "output_type": "stream",
     "text": [
      "[1, 2, 3, 4]\n"
     ]
    }
   ],
   "source": [
    "OG= [1, 2, 3, 4, 5]\n",
    "reverse= []\n",
    "for i in range(len(OG)- 1,):\n",
    "   reverse.append(OG[i])\n",
    "print(reverse)"
   ]
  },
  {
   "cell_type": "markdown",
   "id": "5aff1aab-be4c-41ab-8e92-5bd8392b7a6f",
   "metadata": {
    "jp-MarkdownHeadingCollapsed": true
   },
   "source": [
    "#### 3 Find the 2nd largest and 2nd smallest element in a list."
   ]
  },
  {
   "cell_type": "code",
   "execution_count": 19,
   "id": "0a7848e7-a374-4177-ad81-924778b9cb84",
   "metadata": {},
   "outputs": [
    {
     "name": "stdout",
     "output_type": "stream",
     "text": [
      "[2, 4, 5, 7, 9, 10]\n",
      "4\n",
      "10\n"
     ]
    }
   ],
   "source": [
    "nums = [10, 4, 7, 2, 9, 2, 10, 5]\n",
    "my_set = set(nums)\n",
    "my_list = list(my_set)\n",
    "print(my_list)\n",
    "my_list.sort()\n",
    "second_smallest = my_list[1]\n",
    "print(second_smallest)\n",
    "second_large = my_list[-1]\n",
    "print(second_large)"
   ]
  },
  {
   "cell_type": "markdown",
   "id": "a1ba20c9-61ca-4871-92af-6833443b3744",
   "metadata": {
    "jp-MarkdownHeadingCollapsed": true
   },
   "source": [
    "#### 4 Store the square of each element of a list into a new list (using list comprehension)."
   ]
  },
  {
   "cell_type": "code",
   "execution_count": 1,
   "id": "0bb7862e-45ab-4a96-bb13-915030d8bdf7",
   "metadata": {},
   "outputs": [
    {
     "name": "stdout",
     "output_type": "stream",
     "text": [
      "[1, 4, 9, 16, 25, 36]\n"
     ]
    }
   ],
   "source": [
    "SQ=[1,2,3,4,5,6]\n",
    "square = [i**2 for i in SQ]\n",
    "print(square)"
   ]
  },
  {
   "cell_type": "markdown",
   "id": "3a72b8d0-b4a0-4718-8da3-d4646f1db3af",
   "metadata": {
    "jp-MarkdownHeadingCollapsed": true
   },
   "source": [
    "#### 5 Flatten a nested list into a single list."
   ]
  },
  {
   "cell_type": "code",
   "execution_count": 4,
   "id": "d139b376-7976-4a2f-9bb4-3d2409b3909c",
   "metadata": {},
   "outputs": [
    {
     "ename": "TypeError",
     "evalue": "list.append() takes exactly one argument (0 given)",
     "output_type": "error",
     "traceback": [
      "\u001b[1;31m---------------------------------------------------------------------------\u001b[0m",
      "\u001b[1;31mTypeError\u001b[0m                                 Traceback (most recent call last)",
      "Cell \u001b[1;32mIn[4], line 4\u001b[0m\n\u001b[0;32m      2\u001b[0m \u001b[38;5;28;01mfor\u001b[39;00m i \u001b[38;5;129;01min\u001b[39;00m L2:\n\u001b[0;32m      3\u001b[0m     \u001b[38;5;28;01mfor\u001b[39;00m j \u001b[38;5;129;01min\u001b[39;00m i:\n\u001b[1;32m----> 4\u001b[0m         \u001b[38;5;28mlist\u001b[39m\u001b[38;5;241m.\u001b[39mappend(L2)\n\u001b[0;32m      5\u001b[0m     \u001b[38;5;28mprint\u001b[39m(L2)\n",
      "\u001b[1;31mTypeError\u001b[0m: list.append() takes exactly one argument (0 given)"
     ]
    }
   ],
   "source": [
    "L2= [[1,2,], [3,4]]\n",
    "for i in L2:\n",
    "    for j in i:\n",
    "        list.append(L2)\n",
    "    print(L2)"
   ]
  },
  {
   "cell_type": "markdown",
   "id": "d2fa57ca-a5fa-4d6a-9fe2-f3ea9f8dd317",
   "metadata": {
    "jp-MarkdownHeadingCollapsed": true
   },
   "source": [
    "# 3) tuple"
   ]
  },
  {
   "cell_type": "markdown",
   "id": "702fec3e-fb0e-49a7-bb8a-be9b53a7cdf7",
   "metadata": {
    "jp-MarkdownHeadingCollapsed": true
   },
   "source": [
    "#### 1 Reverse a tuple without using [::-1]."
   ]
  },
  {
   "cell_type": "code",
   "execution_count": 47,
   "id": "37a2a2b4-4456-45cd-bbb0-b23b694f3054",
   "metadata": {},
   "outputs": [
    {
     "name": "stdout",
     "output_type": "stream",
     "text": [
      "(6, 5, 4, 3, 2, 1)\n"
     ]
    }
   ],
   "source": [
    "Str1= (1,2,3,4,5,6,)\n",
    "Str2=tuple(reversed(Str1))\n",
    "print(Str2)"
   ]
  },
  {
   "cell_type": "markdown",
   "id": "ee10ad0f-179c-449c-8b13-2f720a145e5c",
   "metadata": {
    "jp-MarkdownHeadingCollapsed": true
   },
   "source": [
    "#### 2 Extract unique elements from a tuple and store them in a new list."
   ]
  },
  {
   "cell_type": "code",
   "execution_count": 51,
   "id": "b9134653-04ed-4d86-86b5-ae176d34458b",
   "metadata": {},
   "outputs": [
    {
     "name": "stdout",
     "output_type": "stream",
     "text": [
      "{1, 2, 3, 4, 5, 6}\n"
     ]
    }
   ],
   "source": [
    "Str1= (1,2,3,4,4,4,5,5,5,6,)\n",
    "str3=set(Str1)\n",
    "print(str3)"
   ]
  },
  {
   "cell_type": "markdown",
   "id": "72659eec-c62f-4e79-8059-fc6487a1b1d3",
   "metadata": {
    "jp-MarkdownHeadingCollapsed": true
   },
   "source": [
    "#### 3. Concatenate two tuples and sort them"
   ]
  },
  {
   "cell_type": "code",
   "execution_count": 64,
   "id": "f0225631-0197-46db-95f2-231bc09b6ff7",
   "metadata": {},
   "outputs": [
    {
     "name": "stdout",
     "output_type": "stream",
     "text": [
      "(1, 2, 3, 4, 4, 4, 5, 5, 5, 6, 1, 2, 3, 4)\n"
     ]
    }
   ],
   "source": [
    "Str1= (1,2,3,4,4,4,5,5,5,6,) \n",
    "Str2= (1,2,3,4,)\n",
    "SSTTRR=(Str1+Str2)\n",
    "print(SSTTRR)"
   ]
  },
  {
   "cell_type": "markdown",
   "id": "9f84ed02-9fe2-455c-9801-d36b45908543",
   "metadata": {
    "jp-MarkdownHeadingCollapsed": true
   },
   "source": [
    "#### 4 Count the frequency of an element in a tuple without using count()"
   ]
  },
  {
   "cell_type": "code",
   "execution_count": 90,
   "id": "33fe4d1f-5750-41df-92ba-f9f284b7c2c6",
   "metadata": {},
   "outputs": [
    {
     "name": "stdout",
     "output_type": "stream",
     "text": [
      "3\n"
     ]
    }
   ],
   "source": [
    "Str1 = (1, 2, 3, 4, 4, 4, 5, 5, 5, 6,)\n",
    "Der = 5\n",
    "tup = 0\n",
    "for i in Str1:\n",
    "    if i == Der:\n",
    "        tup += 1\n",
    "print(counter)"
   ]
  },
  {
   "cell_type": "markdown",
   "id": "03e3ec1f-7e6f-484f-9e23-1f5062181b51",
   "metadata": {
    "jp-MarkdownHeadingCollapsed": true
   },
   "source": [
    "#### 5 From a tuple of numbers, create two tuples: one with even numbers and one with odd numbers"
   ]
  },
  {
   "cell_type": "code",
   "execution_count": 19,
   "id": "95dfad97-ce00-4428-b5a7-48554cd09bfe",
   "metadata": {},
   "outputs": [
    {
     "name": "stdout",
     "output_type": "stream",
     "text": [
      "even number: 2\n",
      "even number: 4\n",
      "even number: 6\n",
      "even number: 8\n",
      "odd number: 1\n",
      "odd number: 3\n",
      "odd number: 5\n",
      "odd number: 7\n",
      "odd number: 9\n"
     ]
    }
   ],
   "source": [
    "Str_ = (1, 2, 3, 4, 5, 6, 7, 8, 9)\n",
    "\n",
    "for i in Str_:\n",
    "    if i % 2 == 0:\n",
    "        print(\"even number:\",i)\n",
    "\n",
    "for i in Str_:\n",
    "    if i % 2 != 0:\n",
    "       print(\"odd number:\",i)"
   ]
  },
  {
   "cell_type": "markdown",
   "id": "d8c69fa9-a51e-41f0-99b8-38e6acdd1481",
   "metadata": {
    "jp-MarkdownHeadingCollapsed": true
   },
   "source": [
    "# 4) Set"
   ]
  },
  {
   "cell_type": "markdown",
   "id": "e6ab5556-cd68-4d19-91c1-57bd710e1fd6",
   "metadata": {
    "jp-MarkdownHeadingCollapsed": true
   },
   "source": [
    "####  1} Perform union, intersection, and difference of two sets without using built-in operators"
   ]
  },
  {
   "cell_type": "code",
   "execution_count": 1,
   "id": "a629f3f8-af99-42dc-b8ef-b0bfb7ad56a0",
   "metadata": {},
   "outputs": [
    {
     "data": {
      "text/plain": [
       "{1, 2, 3, 4, 5, 6, 7, 8, 9}"
      ]
     },
     "execution_count": 1,
     "metadata": {},
     "output_type": "execute_result"
    }
   ],
   "source": [
    "s1 = {1,2,3,4,5,6,7,8}\n",
    "s2 = {7,8,9}\n",
    "s1|s2"
   ]
  },
  {
   "cell_type": "code",
   "execution_count": 32,
   "id": "f5a3199b-a646-4502-9b0d-cc1e1509b408",
   "metadata": {},
   "outputs": [
    {
     "data": {
      "text/plain": [
       "{7, 8}"
      ]
     },
     "execution_count": 32,
     "metadata": {},
     "output_type": "execute_result"
    }
   ],
   "source": [
    "s1.intersection(s2)"
   ]
  },
  {
   "cell_type": "code",
   "execution_count": 33,
   "id": "3a4b1784-919c-4593-ac0e-8e044af5cea6",
   "metadata": {},
   "outputs": [
    {
     "data": {
      "text/plain": [
       "{1, 2, 3, 4, 5, 6}"
      ]
     },
     "execution_count": 33,
     "metadata": {},
     "output_type": "execute_result"
    }
   ],
   "source": [
    "s1.difference(s2)"
   ]
  },
  {
   "cell_type": "markdown",
   "id": "413d37e7-5e5a-4d44-bb00-787f3c8fe7e5",
   "metadata": {
    "jp-MarkdownHeadingCollapsed": true
   },
   "source": [
    "#### 2} Remove a random element from a set (without using pop())"
   ]
  },
  {
   "cell_type": "code",
   "execution_count": 34,
   "id": "b24f5528-2093-402b-b947-53a44c43d282",
   "metadata": {},
   "outputs": [],
   "source": [
    "s1 = {1,2,3,4,5,6,7,8}\n",
    "s1.remove(3)"
   ]
  },
  {
   "cell_type": "code",
   "execution_count": 35,
   "id": "c4549847-4e2a-4586-9cff-b9c8b7b5e687",
   "metadata": {},
   "outputs": [
    {
     "data": {
      "text/plain": [
       "{1, 2, 4, 5, 6, 7, 8}"
      ]
     },
     "execution_count": 35,
     "metadata": {},
     "output_type": "execute_result"
    }
   ],
   "source": [
    "s1"
   ]
  },
  {
   "cell_type": "markdown",
   "id": "5f584ebd-bf44-468b-ad76-7108616063ab",
   "metadata": {
    "jp-MarkdownHeadingCollapsed": true
   },
   "source": [
    "#### 3}Convert a list into a set and check if duplicates are removed."
   ]
  },
  {
   "cell_type": "code",
   "execution_count": 37,
   "id": "58c8d71e-820c-4b53-92ab-cfc61815afb6",
   "metadata": {},
   "outputs": [
    {
     "data": {
      "text/plain": [
       "{1, 2, 3, 4, 5, 6, 7, 8, 9}"
      ]
     },
     "execution_count": 37,
     "metadata": {},
     "output_type": "execute_result"
    }
   ],
   "source": [
    "str2=[1,2,3,4,5,6,7,7,7,8,9,]\n",
    "set(str2)"
   ]
  },
  {
   "cell_type": "markdown",
   "id": "c5758b9c-21ff-42b3-a296-6a46374de612",
   "metadata": {
    "jp-MarkdownHeadingCollapsed": true
   },
   "source": [
    "#### 4}Check if two sets are disjoint."
   ]
  },
  {
   "cell_type": "code",
   "execution_count": 38,
   "id": "5181500d-ae61-48bc-9b38-6e304175f8a4",
   "metadata": {},
   "outputs": [
    {
     "data": {
      "text/plain": [
       "False"
      ]
     },
     "execution_count": 38,
     "metadata": {},
     "output_type": "execute_result"
    }
   ],
   "source": [
    "s1 = {1,2,3,4,5,6,7,8}\n",
    "s2 = {7,8,9}\n",
    "s1.isdisjoint(s2)"
   ]
  },
  {
   "cell_type": "markdown",
   "id": "9f24b45b-9e53-4579-8365-7ca3310bf1d1",
   "metadata": {
    "jp-MarkdownHeadingCollapsed": true
   },
   "source": [
    "#### 5}Find the sum of all elements in a set"
   ]
  },
  {
   "cell_type": "code",
   "execution_count": 39,
   "id": "5ddcf534-04b1-4135-a62a-1b6634e86756",
   "metadata": {},
   "outputs": [
    {
     "data": {
      "text/plain": [
       "36"
      ]
     },
     "execution_count": 39,
     "metadata": {},
     "output_type": "execute_result"
    }
   ],
   "source": [
    "s1 = {1,2,3,4,5,6,7,8}\n",
    "sum(s1)"
   ]
  },
  {
   "cell_type": "markdown",
   "id": "374282e0-00f0-4fe3-9c36-6470b1585092",
   "metadata": {
    "jp-MarkdownHeadingCollapsed": true
   },
   "source": [
    "# 5) Dictionary"
   ]
  },
  {
   "cell_type": "markdown",
   "id": "50d376ed-388f-42bc-9b80-33392378656f",
   "metadata": {
    "jp-MarkdownHeadingCollapsed": true
   },
   "source": [
    "#### 1) Create a dictionary and print keys in ascending order"
   ]
  },
  {
   "cell_type": "code",
   "execution_count": 61,
   "id": "a2b2b47b-c9bd-4322-b467-0cbaba3544c6",
   "metadata": {},
   "outputs": [],
   "source": [
    "d1 = {\"jan\":31, \"feb\": 28, \"march\":31, \"april\":30}"
   ]
  },
  {
   "cell_type": "code",
   "execution_count": 62,
   "id": "b3217446-7b79-4b85-9223-5e4b2bc23062",
   "metadata": {},
   "outputs": [
    {
     "data": {
      "text/plain": [
       "['april', 'feb', 'jan', 'march']"
      ]
     },
     "execution_count": 62,
     "metadata": {},
     "output_type": "execute_result"
    }
   ],
   "source": [
    "sorted(d1.keys())"
   ]
  },
  {
   "cell_type": "markdown",
   "id": "f2c5821c-215e-4822-a204-8a3ea33644ce",
   "metadata": {
    "jp-MarkdownHeadingCollapsed": true
   },
   "source": [
    "#### 2) Add a new key to a dictionary with value equal to the sum of existing values"
   ]
  },
  {
   "cell_type": "code",
   "execution_count": 89,
   "id": "71949f58-e16d-4878-b18b-d6c87fe3e522",
   "metadata": {},
   "outputs": [
    {
     "name": "stdout",
     "output_type": "stream",
     "text": [
      "{'jan': 31, 'feb': 28, 'march': 31, 'april': 30, 'may': 45}\n"
     ]
    }
   ],
   "source": [
    "d1 = {\"jan\":31, \"feb\": 28, \"march\":31, \"april\":30}\n",
    "d1.update({\"may\":45})\n",
    "print(d1)\n"
   ]
  },
  {
   "cell_type": "markdown",
   "id": "2f57b5f3-253a-4209-9c16-6b79f63bc9ce",
   "metadata": {
    "jp-MarkdownHeadingCollapsed": true
   },
   "source": [
    "#### 3)Merge two dictionaries into one."
   ]
  },
  {
   "cell_type": "code",
   "execution_count": 92,
   "id": "c7c629df-2930-4c04-a9a9-d2c00edadf8e",
   "metadata": {},
   "outputs": [
    {
     "name": "stdout",
     "output_type": "stream",
     "text": [
      "{'jan': 31, 'feb': 28, 'march': 31, 'april': 30, 'june': 56, 'july': 38, 'august': 35}\n"
     ]
    }
   ],
   "source": [
    "d1 = {\"jan\":31, \"feb\": 28, \"march\":31, \"april\":30}\n",
    "d2 = {\"june\":56, \"july\": 38, \"august\":35}\n",
    "d3 = d1|d2\n",
    "print(d3)"
   ]
  },
  {
   "cell_type": "markdown",
   "id": "b8e63bba-101e-46f5-aa5e-02df22214768",
   "metadata": {
    "jp-MarkdownHeadingCollapsed": true
   },
   "source": [
    "#### 4) Find the key with the largest value in a dictionary"
   ]
  },
  {
   "cell_type": "code",
   "execution_count": 94,
   "id": "deb5bee5-b933-4a83-b47a-c08ef999c876",
   "metadata": {},
   "outputs": [
    {
     "data": {
      "text/plain": [
       "'march'"
      ]
     },
     "execution_count": 94,
     "metadata": {},
     "output_type": "execute_result"
    }
   ],
   "source": [
    "d1 = {\"jan\":31, \"feb\": 28, \"march\":31, \"april\":30}\n",
    "max(d1)"
   ]
  },
  {
   "cell_type": "markdown",
   "id": "c8dcb00e-e832-4b13-aac0-8d02aedd2001",
   "metadata": {
    "jp-MarkdownHeadingCollapsed": true
   },
   "source": [
    "#### 5)Store the frequency of characters of a string in a dictionary"
   ]
  },
  {
   "cell_type": "code",
   "execution_count": 2,
   "id": "de96b9bc-bb8e-4d94-886c-456bda899ea8",
   "metadata": {},
   "outputs": [
    {
     "name": "stdout",
     "output_type": "stream",
     "text": [
      "{'H': 1, 'e': 1, 'l': 3, 'o': 2, 'W': 1, 'r': 1, 'd': 1}\n"
     ]
    }
   ],
   "source": []
  },
  {
   "cell_type": "markdown",
   "id": "1d0dedbf-202d-4e3f-a28f-bfedd483a165",
   "metadata": {
    "jp-MarkdownHeadingCollapsed": true
   },
   "source": [
    "# 6) conditional Statements "
   ]
  },
  {
   "cell_type": "markdown",
   "id": "80934a03-2b0e-4cc5-a8f0-dd29495ccfc1",
   "metadata": {
    "jp-MarkdownHeadingCollapsed": true
   },
   "source": [
    "#### 1) Take age as input and check if the person is eligible to vote or not"
   ]
  },
  {
   "cell_type": "code",
   "execution_count": 7,
   "id": "c44ed5fe-8980-46fa-a1d8-b0aa55f60416",
   "metadata": {},
   "outputs": [
    {
     "name": "stdin",
     "output_type": "stream",
     "text": [
      " 145\n"
     ]
    },
    {
     "name": "stdout",
     "output_type": "stream",
     "text": [
      "eligible to vote\n"
     ]
    }
   ],
   "source": [
    "age= int(input())\n",
    "\n",
    "if age >= 18:\n",
    "    print('eligible to vote')\n",
    "else: \n",
    "    print(\"Not eligible to vote \")\n"
   ]
  },
  {
   "cell_type": "markdown",
   "id": "8513f200-ff7a-470c-99ec-52bdf36d0235",
   "metadata": {
    "jp-MarkdownHeadingCollapsed": true
   },
   "source": [
    "#### 2)Find the largest among three numbers (using nested if)"
   ]
  },
  {
   "cell_type": "code",
   "execution_count": 5,
   "id": "65958f88-2dcd-4072-a0ce-b0d587ff5bc7",
   "metadata": {},
   "outputs": [
    {
     "name": "stdout",
     "output_type": "stream",
     "text": [
      "85\n"
     ]
    }
   ],
   "source": [
    "q,q1,q2= 45,56,85\n",
    "\n",
    "if q >= q1:\n",
    "    print (q)\n",
    "elif q1 >= q2:\n",
    "    print (q1)\n",
    "else :\n",
    "    print (q2)"
   ]
  },
  {
   "cell_type": "markdown",
   "id": "2911e86f-efe1-41f6-9af1-97900efb3208",
   "metadata": {
    "jp-MarkdownHeadingCollapsed": true
   },
   "source": [
    "#### 3) Check if a given number is prime or not."
   ]
  },
  {
   "cell_type": "code",
   "execution_count": null,
   "id": "957f0540-0ba2-4b67-a72b-dd58ec77aec3",
   "metadata": {},
   "outputs": [],
   "source": [
    "Prime= int(input())\n",
    "\n",
    "if prime is >= 1 and not \n"
   ]
  },
  {
   "cell_type": "markdown",
   "id": "cb754bb8-cffd-4798-97f6-e61693b4f7d3",
   "metadata": {
    "jp-MarkdownHeadingCollapsed": true
   },
   "source": [
    "#### 4) Assign grade (A, B, C, Fail) based on marks input"
   ]
  },
  {
   "cell_type": "code",
   "execution_count": 24,
   "id": "60c4060b-4ff9-4149-ad77-fbad1591bbd0",
   "metadata": {},
   "outputs": [
    {
     "name": "stdin",
     "output_type": "stream",
     "text": [
      " 45\n"
     ]
    },
    {
     "name": "stdout",
     "output_type": "stream",
     "text": [
      "b grade\n"
     ]
    }
   ],
   "source": [
    "marks = int(input())\n",
    "\n",
    "if marks >= 90:\n",
    "    print (\"A grade\")\n",
    "elif marks <= 75:\n",
    "    print (\"b grade\")\n",
    "elif marks <= 60:\n",
    "    print (\"c grade\")\n",
    "else:\n",
    "    print (\"Fail\")"
   ]
  },
  {
   "cell_type": "markdown",
   "id": "17753e6b-3caa-4e1c-b031-2435f336fa7d",
   "metadata": {
    "jp-MarkdownHeadingCollapsed": true
   },
   "source": [
    "#### 5) Check if a number is positive, negative, or zero."
   ]
  },
  {
   "cell_type": "code",
   "execution_count": 29,
   "id": "7a8c3e0b-f8f1-4776-b8b5-a1f5dedda8f5",
   "metadata": {},
   "outputs": [
    {
     "name": "stdin",
     "output_type": "stream",
     "text": [
      " -45\n"
     ]
    },
    {
     "name": "stdout",
     "output_type": "stream",
     "text": [
      "Negative\n"
     ]
    }
   ],
   "source": [
    "num= int(input())\n",
    "\n",
    "if num > 0:\n",
    "    print (\"Positive\")\n",
    "elif num < 0:\n",
    "    print (\"Negative\")\n",
    "else:\n",
    "    print (\"Zero\")"
   ]
  },
  {
   "cell_type": "markdown",
   "id": "9bcf1203-752f-422c-8050-7993e5c876c1",
   "metadata": {
    "jp-MarkdownHeadingCollapsed": true
   },
   "source": [
    "# 7) Loops – For & While"
   ]
  },
  {
   "cell_type": "markdown",
   "id": "0254b5f0-39a7-473a-92fe-36e28a3c10a9",
   "metadata": {
    "jp-MarkdownHeadingCollapsed": true
   },
   "source": [
    "####  1) Print the first 10 numbers of the Fibonacci series using for loop."
   ]
  },
  {
   "cell_type": "code",
   "execution_count": 23,
   "id": "2e737f16-8a3c-4ca7-9f0d-33f811c41643",
   "metadata": {},
   "outputs": [
    {
     "name": "stdout",
     "output_type": "stream",
     "text": [
      "0 1 1 2 3 5 8 13 21 34 "
     ]
    }
   ],
   "source": [
    "a,b = 0,1\n",
    "for i in range (10):\n",
    "    print(a, end=\" \")\n",
    "    a,b = b, a+b"
   ]
  },
  {
   "cell_type": "markdown",
   "id": "e22a1744-5988-42ec-970f-52aeb77bb5b0",
   "metadata": {
    "jp-MarkdownHeadingCollapsed": true
   },
   "source": [
    "#### 2) Find the factorial of a number using while loop."
   ]
  },
  {
   "cell_type": "code",
   "execution_count": 26,
   "id": "6ee6effc-b999-4a62-810d-5e64adc18899",
   "metadata": {},
   "outputs": [
    {
     "name": "stdout",
     "output_type": "stream",
     "text": [
      "40320\n"
     ]
    }
   ],
   "source": [
    "n = 8\n",
    "\n",
    "W = 1\n",
    "for i in range(1, n + 1):\n",
    "    W *= i\n",
    "print(W)"
   ]
  },
  {
   "cell_type": "markdown",
   "id": "e6539174-e7a6-4743-90f9-97467d183a5c",
   "metadata": {
    "jp-MarkdownHeadingCollapsed": true
   },
   "source": [
    "#### 3) Input a number and find the sum of its digits using while loop"
   ]
  },
  {
   "cell_type": "code",
   "execution_count": 27,
   "id": "94be893f-0af1-4560-a6cb-fd95988814a3",
   "metadata": {},
   "outputs": [
    {
     "name": "stdin",
     "output_type": "stream",
     "text": [
      " 78\n"
     ]
    },
    {
     "name": "stdout",
     "output_type": "stream",
     "text": [
      "15\n"
     ]
    }
   ],
   "source": [
    "n= int(input())\n",
    "s = 0\n",
    "while n>0:\n",
    "    s+= n%10\n",
    "    n//=10\n",
    "print(s) "
   ]
  },
  {
   "cell_type": "markdown",
   "id": "20f2f065-a47a-4299-8ff8-250e83e5c837",
   "metadata": {},
   "source": [
    "#### 4) Print all elements of a list in reverse order without using reverse()"
   ]
  },
  {
   "cell_type": "code",
   "execution_count": 29,
   "id": "482e8470-072f-49bd-9bd4-fd6a35a202fc",
   "metadata": {},
   "outputs": [
    {
     "name": "stdout",
     "output_type": "stream",
     "text": [
      "[5, 4, 3, 2, 1]\n"
     ]
    }
   ],
   "source": [
    "a = [1, 2, 3, 4, 5]\n",
    "rev = a[::-1]\n",
    "print(rev)"
   ]
  },
  {
   "cell_type": "markdown",
   "id": "a98ccda6-ff6a-4e42-a3f1-e513deb45b2f",
   "metadata": {},
   "source": [
    "#### 5) Print a star pattern (triangle) using nested loops."
   ]
  },
  {
   "cell_type": "code",
   "execution_count": 3,
   "id": "d119a008-374b-4335-a69b-febad1913b80",
   "metadata": {},
   "outputs": [
    {
     "name": "stdout",
     "output_type": "stream",
     "text": [
      "* \n",
      "* * \n",
      "* * * \n",
      "* * * * \n",
      "* * * * * \n"
     ]
    }
   ],
   "source": [
    "rows = 5\n",
    "\n",
    "# Outer loop for rows\n",
    "for i in range(rows):\n",
    "    # Inner loop for printing stars\n",
    "    for j in range(i + 1):\n",
    "        print(\"* \", end=\"\")\n",
    "    # Move to the next line after each row\n",
    "    print()"
   ]
  },
  {
   "cell_type": "markdown",
   "id": "72229a76-b1e0-41d2-adaa-517d4cf35527",
   "metadata": {
    "jp-MarkdownHeadingCollapsed": true
   },
   "source": [
    "# 8) File Handling"
   ]
  },
  {
   "cell_type": "markdown",
   "id": "450e1434-bde6-43bd-9799-31451315ec97",
   "metadata": {
    "jp-MarkdownHeadingCollapsed": true
   },
   "source": [
    "#### 1) Write some text into a file and then read and print it"
   ]
  },
  {
   "cell_type": "code",
   "execution_count": 43,
   "id": "165078b7-f7c3-459c-9787-b80a1a392234",
   "metadata": {},
   "outputs": [],
   "source": [
    "f = open(\"test1.txt\", \"w\")"
   ]
  },
  {
   "cell_type": "code",
   "execution_count": 44,
   "id": "0d05a5a9-6d10-4ff8-a381-263fa875c3d7",
   "metadata": {},
   "outputs": [
    {
     "data": {
      "text/plain": [
       "94"
      ]
     },
     "execution_count": 44,
     "metadata": {},
     "output_type": "execute_result"
    }
   ],
   "source": [
    "f.write(\"Write a program that takes user input and prints its square. Handle errors if input is invalid\")"
   ]
  },
  {
   "cell_type": "code",
   "execution_count": 49,
   "id": "edcbbb7e-25e9-4fe8-87ca-0c4d7845fc83",
   "metadata": {},
   "outputs": [],
   "source": [
    "f.close()"
   ]
  },
  {
   "cell_type": "code",
   "execution_count": 50,
   "id": "dcd28550-ead8-4258-9f24-8a7f560a2af4",
   "metadata": {},
   "outputs": [],
   "source": [
    "f = open(\"test1.txt\",\"r\")"
   ]
  },
  {
   "cell_type": "code",
   "execution_count": 51,
   "id": "4762bad2-6f20-42cf-b71f-751194504451",
   "metadata": {},
   "outputs": [
    {
     "data": {
      "text/plain": [
       "'Write a program that takes user input and prints its square. Handle errors if input is invalidWrite a program that takes user input and prints its square. Handle errors if input is invalid'"
      ]
     },
     "execution_count": 51,
     "metadata": {},
     "output_type": "execute_result"
    }
   ],
   "source": [
    "f.read()"
   ]
  },
  {
   "cell_type": "markdown",
   "id": "c0383c06-4555-4944-a251-15bdf4752bdb",
   "metadata": {
    "jp-MarkdownHeadingCollapsed": true
   },
   "source": [
    "#### 2) Count the total number of lines in a file"
   ]
  },
  {
   "cell_type": "code",
   "execution_count": 69,
   "id": "5b04fb4f-4470-4932-9b31-0f948dd100c3",
   "metadata": {},
   "outputs": [
    {
     "name": "stdout",
     "output_type": "stream",
     "text": [
      "1\n"
     ]
    }
   ],
   "source": [
    "file = open(\"test1.txt\", \"r\")\n",
    "line = len(file.readlines())\n",
    "print(line)"
   ]
  },
  {
   "cell_type": "markdown",
   "id": "b811a767-92b1-422d-bd5d-726a61172765",
   "metadata": {
    "jp-MarkdownHeadingCollapsed": true
   },
   "source": [
    "#### 3) Count vowels and consonants in a file"
   ]
  },
  {
   "cell_type": "code",
   "execution_count": 7,
   "id": "e40a5812-329c-4148-98f0-575bf6760ecc",
   "metadata": {},
   "outputs": [
    {
     "name": "stdout",
     "output_type": "stream",
     "text": [
      "58 96\n"
     ]
    }
   ],
   "source": [
    "with open (\"test1.txt\") as f:\n",
    "    text= f.read().lower()\n",
    "vowel = sum(ch in \"aeiou\" for ch in text)\n",
    "consonants = sum(ch.isalpha() and ch not in \"aeiou\" for ch in text)\n",
    "print(vowel, consonants)"
   ]
  },
  {
   "cell_type": "markdown",
   "id": "945678de-e629-4ca2-ab0e-06f91079361f",
   "metadata": {
    "jp-MarkdownHeadingCollapsed": true
   },
   "source": [
    "#### 4) Convert the content of a file into uppercase and store it in another file."
   ]
  },
  {
   "cell_type": "code",
   "execution_count": 74,
   "id": "36a567fc-a34b-496d-92d2-fab138dee299",
   "metadata": {},
   "outputs": [
    {
     "name": "stdout",
     "output_type": "stream",
     "text": [
      "['Write a program that takes user input and prints its square. Handle errors if input is invalidWrite a program that takes user input and prints its square. Handle errors if input is invalid']\n"
     ]
    }
   ],
   "source": [
    "file = open(\"test1.txt\", \"r\")\n",
    "line = (file.readlines())\n",
    "print(line)"
   ]
  },
  {
   "cell_type": "markdown",
   "id": "3e9dfb69-9f32-4428-a093-8b6f60257d00",
   "metadata": {},
   "source": [
    "#### 5) Read a CSV file and print its rows."
   ]
  },
  {
   "cell_type": "markdown",
   "id": "6834312f-8e97-421b-978d-e7e68f8cd658",
   "metadata": {
    "jp-MarkdownHeadingCollapsed": true
   },
   "source": [
    "# 9) OS Module"
   ]
  },
  {
   "cell_type": "markdown",
   "id": "d587fa17-579b-47df-a72c-d41f4ea9efbb",
   "metadata": {
    "jp-MarkdownHeadingCollapsed": true
   },
   "source": [
    "#### 1) Print the current working directory using os module."
   ]
  },
  {
   "cell_type": "code",
   "execution_count": 10,
   "id": "be590595-fa9f-4774-870c-655f9d982943",
   "metadata": {},
   "outputs": [],
   "source": [
    "import os"
   ]
  },
  {
   "cell_type": "code",
   "execution_count": 11,
   "id": "b0aaa9a3-a252-460a-b550-5198bc432c1e",
   "metadata": {},
   "outputs": [
    {
     "data": {
      "text/plain": [
       "'C:\\\\Users\\\\vaibh\\\\python 1'"
      ]
     },
     "execution_count": 11,
     "metadata": {},
     "output_type": "execute_result"
    }
   ],
   "source": [
    "os.getcwd()"
   ]
  },
  {
   "cell_type": "markdown",
   "id": "20bded27-4d46-4cc2-ac2a-1d56c567f45e",
   "metadata": {
    "jp-MarkdownHeadingCollapsed": true
   },
   "source": [
    "#### 2) Create a new folder using os module and create a file inside it."
   ]
  },
  {
   "cell_type": "code",
   "execution_count": 14,
   "id": "0e09a3b7-3ca2-40cd-878e-d2e62b1dfa2c",
   "metadata": {},
   "outputs": [
    {
     "ename": "FileNotFoundError",
     "evalue": "[WinError 3] The system cannot find the path specified: 'D:\\\\Desktop'",
     "output_type": "error",
     "traceback": [
      "\u001b[1;31m---------------------------------------------------------------------------\u001b[0m",
      "\u001b[1;31mFileNotFoundError\u001b[0m                         Traceback (most recent call last)",
      "Cell \u001b[1;32mIn[14], line 1\u001b[0m\n\u001b[1;32m----> 1\u001b[0m os\u001b[38;5;241m.\u001b[39mchdir(\u001b[38;5;124m\"\u001b[39m\u001b[38;5;124mD:\u001b[39m\u001b[38;5;130;01m\\\\\u001b[39;00m\u001b[38;5;124mDesktop\u001b[39m\u001b[38;5;124m\"\u001b[39m)\n\u001b[0;32m      2\u001b[0m os\u001b[38;5;241m.\u001b[39mmkdir(\u001b[38;5;124m\"\u001b[39m\u001b[38;5;124mnew_folder\u001b[39m\u001b[38;5;124m\"\u001b[39m)\n\u001b[0;32m      3\u001b[0m os\u001b[38;5;241m.\u001b[39mchdir(\u001b[38;5;124m\"\u001b[39m\u001b[38;5;124mD:\u001b[39m\u001b[38;5;130;01m\\\\\u001b[39;00m\u001b[38;5;124mDesktop\u001b[39m\u001b[38;5;130;01m\\\\\u001b[39;00m\u001b[38;5;124mnew_folder\u001b[39m\u001b[38;5;124m\"\u001b[39m)\n",
      "\u001b[1;31mFileNotFoundError\u001b[0m: [WinError 3] The system cannot find the path specified: 'D:\\\\Desktop'"
     ]
    }
   ],
   "source": [
    "os.chdir(\"D:\\\\Desktop\")\n",
    "os.mkdir(\"new_folder\")\n",
    "os.chdir(\"D:\\\\Desktop\\\\new_folder\")"
   ]
  },
  {
   "cell_type": "code",
   "execution_count": 13,
   "id": "0be14c36-4572-4214-abab-5ec054b62707",
   "metadata": {},
   "outputs": [
    {
     "name": "stdout",
     "output_type": "stream",
     "text": [
      "Writing new_file.txt\n"
     ]
    }
   ],
   "source": [
    "%%writefile new_file.txt\n",
    "!hello python"
   ]
  },
  {
   "cell_type": "markdown",
   "id": "ab723282-bd86-46b5-bcd6-7cb2d9ded80c",
   "metadata": {
    "jp-MarkdownHeadingCollapsed": true
   },
   "source": [
    "#### 3) List all files and folders inside a directory."
   ]
  },
  {
   "cell_type": "code",
   "execution_count": 21,
   "id": "c2b1b4ba-4a7c-4f1c-bec2-11c02f14d85c",
   "metadata": {},
   "outputs": [
    {
     "ename": "OSError",
     "evalue": "[WinError 123] The filename, directory name, or volume label syntax is incorrect: 'Users\\x0baibh\\\\OneDrive\\\\Desktop'",
     "output_type": "error",
     "traceback": [
      "\u001b[1;31m---------------------------------------------------------------------------\u001b[0m",
      "\u001b[1;31mOSError\u001b[0m                                   Traceback (most recent call last)",
      "Cell \u001b[1;32mIn[21], line 1\u001b[0m\n\u001b[1;32m----> 1\u001b[0m os\u001b[38;5;241m.\u001b[39mchdir(\u001b[38;5;124m\"\u001b[39m\u001b[38;5;124mUsers\u001b[39m\u001b[38;5;130;01m\\v\u001b[39;00m\u001b[38;5;124maibh\u001b[39m\u001b[38;5;124m\\\u001b[39m\u001b[38;5;124mOneDrive\u001b[39m\u001b[38;5;124m\\\u001b[39m\u001b[38;5;124mDesktop\u001b[39m\u001b[38;5;124m\"\u001b[39m)\n\u001b[0;32m      2\u001b[0m os\u001b[38;5;241m.\u001b[39mlistdir()\n",
      "\u001b[1;31mOSError\u001b[0m: [WinError 123] The filename, directory name, or volume label syntax is incorrect: 'Users\\x0baibh\\\\OneDrive\\\\Desktop'"
     ]
    }
   ],
   "source": [
    "os.chdir(\"Users\\vaibh\\OneDrive\\Desktop\")\n",
    "os.listdir()"
   ]
  },
  {
   "cell_type": "markdown",
   "id": "ab5504af-3e96-4a8a-89d7-6a935eb4f7a2",
   "metadata": {
    "jp-MarkdownHeadingCollapsed": true
   },
   "source": [
    "#### 4) Check the size of a file using os module"
   ]
  },
  {
   "cell_type": "code",
   "execution_count": null,
   "id": "a896149e-4aa0-4786-bc61-3da845aed184",
   "metadata": {},
   "outputs": [],
   "source": []
  },
  {
   "cell_type": "markdown",
   "id": "16d465f3-8eb8-4c2e-a796-281212a37f15",
   "metadata": {
    "jp-MarkdownHeadingCollapsed": true
   },
   "source": [
    "#### 5) Count all .txt files in a directory."
   ]
  },
  {
   "cell_type": "code",
   "execution_count": 15,
   "id": "e8fa2c00-d553-4b70-bd73-fac6e442d9c3",
   "metadata": {},
   "outputs": [
    {
     "data": {
      "text/plain": [
       "['.ipynb_checkpoints',\n",
       " '01. Python Basics.ipynb',\n",
       " '02. Build-in Functions.ipynb',\n",
       " '03. List and Operation.ipynb',\n",
       " '04. String and Operations.ipynb',\n",
       " '05. Tuple and operation.ipynb',\n",
       " '06. Set and operation.ipynb',\n",
       " '07. Dictionary and operations.ipynb',\n",
       " '08. Conditions-1.ipynb',\n",
       " '09. Conditions-2.ipynb',\n",
       " '10. Loops-1.ipynb',\n",
       " '11. loop-2.ipynb',\n",
       " '13. File_handling.ipynb',\n",
       " '14. Try and Except, Logging.ipynb',\n",
       " '15. User_define.ipynb',\n",
       " '16. User_define_function-2.ipynb',\n",
       " '17. global, map, reduce, filtter.ipynb',\n",
       " '18. OOPs-1.ipynb',\n",
       " '19. OOPs-2.ipynb',\n",
       " 'assignment 1.ipynb',\n",
       " 'condition pratice.ipynb',\n",
       " 'dict practice.ipynb',\n",
       " 'list practice[ ].ipynb',\n",
       " 'new_file.txt',\n",
       " 'Python Practice Questions .ipynb',\n",
       " 'Python Practice Questions1.ipynb',\n",
       " 'Test1.ipynb',\n",
       " 'test1.txt',\n",
       " 'Untitled.ipynb',\n",
       " 'Untitled1.ipynb',\n",
       " 'Untitled2.ipynb']"
      ]
     },
     "execution_count": 15,
     "metadata": {},
     "output_type": "execute_result"
    }
   ],
   "source": [
    "os.listdir()"
   ]
  },
  {
   "cell_type": "markdown",
   "id": "09e47aeb-37ba-40cd-bbe8-cb77d84e449f",
   "metadata": {
    "jp-MarkdownHeadingCollapsed": true
   },
   "source": [
    "# 10) Try-Exception"
   ]
  },
  {
   "cell_type": "markdown",
   "id": "3d82e4ba-3b2c-4ad0-b404-eb7e75d6bf73",
   "metadata": {
    "jp-MarkdownHeadingCollapsed": true
   },
   "source": [
    "#### 1) Write a program that takes user input and prints its square. Handle errors if input is invalid."
   ]
  },
  {
   "cell_type": "code",
   "execution_count": 22,
   "id": "9e3788c9-af1e-4926-8fe6-789f23c24c4e",
   "metadata": {},
   "outputs": [
    {
     "name": "stdin",
     "output_type": "stream",
     "text": [
      " 45\n"
     ]
    },
    {
     "name": "stdout",
     "output_type": "stream",
     "text": [
      "2025.0\n"
     ]
    }
   ],
   "source": [
    "try:\n",
    "    user = int(input())\n",
    "    num  = float(user)\n",
    "    square = num ** 2\n",
    "    print(square)\n",
    "except ValueError:\n",
    "    print(\"Invalid input. Please enter a valid number.\")"
   ]
  },
  {
   "cell_type": "markdown",
   "id": "38e1ecca-4d9f-47f1-9181-504baf0aa03a",
   "metadata": {
    "jp-MarkdownHeadingCollapsed": true
   },
   "source": [
    "#### 2) Handle ZeroDivisionError with an example program."
   ]
  },
  {
   "cell_type": "code",
   "execution_count": 23,
   "id": "a3d8ff4a-2a4a-4f63-8690-1aef18716a5f",
   "metadata": {},
   "outputs": [
    {
     "name": "stdin",
     "output_type": "stream",
     "text": [
      "Enter a number:  45\n"
     ]
    },
    {
     "name": "stdout",
     "output_type": "stream",
     "text": [
      "Result: 0.2222222222222222\n"
     ]
    }
   ],
   "source": [
    "try:\n",
    "    x = int(input(\"Enter a number: \"))\n",
    "    y = 10 / x\n",
    "    print(f\"Result: {y}\")\n",
    "except ValueError:\n",
    "    print(\"Invalid input. Please enter a valid integer.\")\n",
    "except ZeroDivisionError:\n",
    "    print(\"Cannot divide by zero. Please enter a non-zero number.\")\n",
    "except Exception as e:\n",
    "    print(f\"Error occurred: {e}\")"
   ]
  },
  {
   "cell_type": "markdown",
   "id": "6258949a-b539-4c65-bd61-41b55ec7bbe9",
   "metadata": {
    "jp-MarkdownHeadingCollapsed": true
   },
   "source": [
    "#### 3) Handle FileNotFoundError with an example program."
   ]
  },
  {
   "cell_type": "code",
   "execution_count": 24,
   "id": "4588932c-1c92-44f9-bda5-c181881b7c66",
   "metadata": {},
   "outputs": [
    {
     "name": "stdout",
     "output_type": "stream",
     "text": [
      "An unexpected error occurred: name 'filename' is not defined\n"
     ]
    }
   ],
   "source": [
    "try:\n",
    "    with open(filename, 'r')as file:\n",
    "        content = file.read()\n",
    "        print(content)\n",
    "except FileNotFoundError:\n",
    "    print(f\"Error: The file '{filename}' was not found.\")\n",
    "    print(\"please ensure the file exists and the path is correct\")\n",
    "except Exception as e:\n",
    "    print(f\"An unexpected error occurred: {e}\")"
   ]
  },
  {
   "cell_type": "markdown",
   "id": "46d977b1-eef3-4c76-9ad7-4b3b240031cf",
   "metadata": {
    "jp-MarkdownHeadingCollapsed": true
   },
   "source": [
    "#### 4) Handle both ValueError and TypeError with an example."
   ]
  },
  {
   "cell_type": "code",
   "execution_count": 25,
   "id": "75265b53-9b5e-4245-a274-3a5f24139ec5",
   "metadata": {},
   "outputs": [
    {
     "name": "stdin",
     "output_type": "stream",
     "text": [
      " 45\n"
     ]
    },
    {
     "name": "stdout",
     "output_type": "stream",
     "text": [
      "Successfully processed number: 45\n"
     ]
    }
   ],
   "source": [
    "try:\n",
    "    num = int(input())\n",
    "    if num < 0:\n",
    "        raise ValueError(\"input cannot be a negative number\")\n",
    "    print(f\"Successfully processed number: {num}\")\n",
    "\n",
    "except (ValueError, TypeError) as e:\n",
    "    print(f\"an error occured: {e}\")"
   ]
  },
  {
   "cell_type": "markdown",
   "id": "d56435f9-7587-443a-8172-6de7c561ce9b",
   "metadata": {
    "jp-MarkdownHeadingCollapsed": true
   },
   "source": [
    "#### 5) Write a program with finally block that opens and closes a file."
   ]
  },
  {
   "cell_type": "code",
   "execution_count": 26,
   "id": "0b2a1d5e-4da9-4c93-8b06-2b41b2aacd9e",
   "metadata": {},
   "outputs": [
    {
     "name": "stdout",
     "output_type": "stream",
     "text": [
      "Content written to 'example.txt'\n",
      "File 'example.txt' has been closed.\n"
     ]
    }
   ],
   "source": [
    "file_object = None  \n",
    "try:\n",
    "  \n",
    "    file_object = open(\"example.txt\", \"w\")\n",
    "    file_object.write(\"This is a line written to the file.\\n\")\n",
    "    file_object.write(\"Another line.\\n\")\n",
    "    print(\"Content written to 'example.txt'\")\n",
    "except Exception as e:\n",
    "    print(f\"An unexpected error occurred: {e}\")\n",
    "finally:\n",
    "    # This block will always execute, regardless of whether an exception occurred\n",
    "    if file_object:  # Check if the file object was successfully created\n",
    "        file_object.close()\n",
    "        print(\"File 'example.txt' has been closed.\")\n",
    "    else:\n",
    "        print(\"File object was not created, nothing to close.\")"
   ]
  },
  {
   "cell_type": "code",
   "execution_count": null,
   "id": "ac8c2d01-bd1a-4eb4-b522-15ef7ee71f8f",
   "metadata": {},
   "outputs": [],
   "source": []
  }
 ],
 "metadata": {
  "kernelspec": {
   "display_name": "Python [conda env:base] *",
   "language": "python",
   "name": "conda-base-py"
  },
  "language_info": {
   "codemirror_mode": {
    "name": "ipython",
    "version": 3
   },
   "file_extension": ".py",
   "mimetype": "text/x-python",
   "name": "python",
   "nbconvert_exporter": "python",
   "pygments_lexer": "ipython3",
   "version": "3.13.5"
  }
 },
 "nbformat": 4,
 "nbformat_minor": 5
}
